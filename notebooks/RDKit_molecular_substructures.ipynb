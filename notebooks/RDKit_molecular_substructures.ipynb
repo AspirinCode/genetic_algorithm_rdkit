{
 "cells": [
  {
   "cell_type": "markdown",
   "metadata": {},
   "source": [
    "### Genetic Algorithm Can Accurately Navigate Structure Space for Low Viscosity Ionic Liquids\n",
    "1. X versions - no RDKit integration\n",
    "2. X versions - RDKit integration\n",
    "    1. atomic mutations, alpha-num fitness test, fixed bonds, non-random starting structure\n",
    "    2. atomic mutations, similarity map fitness test, fixed bonds, non-random starting structure\n",
    "    3. atomic mutations, similarity map fitness test, bond mutations, non-random starting structure\n",
    "    4. atomic mutations, similarity map fitness test, bond mutations, random starting structure\n",
    "3. X versions - viscosity fitness tests\n",
    "4. X versions - performance upgrades using clustering/similarity maps\n",
    "5. X versions - different search structures\n"
   ]
  },
  {
   "cell_type": "code",
   "execution_count": 1,
   "metadata": {
    "collapsed": true
   },
   "outputs": [],
   "source": [
    "import rdkit\n",
    "from rdkit.Chem import FragmentCatalog\n",
    "from rdkit import RDConfig\n",
    "from rdkit import Chem, DataStructs\n",
    "from rdkit.Chem import AllChem as Chem\n",
    "from rdkit.Chem import AllChem\n",
    "from rdkit.Chem import Draw\n",
    "from rdkit.Chem.Draw import SimilarityMaps\n",
    "from rdkit.Chem.Fingerprints import FingerprintMols\n",
    "from rdkit.Chem.Draw import MolDrawing, DrawingOptions\n",
    "from rdkit.Chem import rdFMCS\n",
    "import random\n",
    "import os\n",
    "import pandas as pd\n",
    "import matplotlib.pylab as plt\n",
    "%matplotlib inline"
   ]
  },
  {
   "cell_type": "markdown",
   "metadata": {},
   "source": [
    "# Replace atoms"
   ]
  },
  {
   "cell_type": "code",
   "execution_count": 2,
   "metadata": {
    "collapsed": true
   },
   "outputs": [],
   "source": [
    "class Chromosome(Chem.rdchem.Mol):\n",
    "    def __init__(self, genes, fitness):\n",
    "        Chem.rdchem.Mol.__init__(self)\n",
    "        self.Genes = genes\n",
    "        self.Fitness = fitness\n",
    "        self.Mol = Chem.MolFromSmiles(genes)\n",
    "def get_fitness(genes, target):\n",
    "    ms = [Chem.MolFromSmiles(target), Chem.MolFromSmiles(genes)]\n",
    "    fps = [FingerprintMols.FingerprintMol(x) for x in ms]\n",
    "    return DataStructs.FingerprintSimilarity(fps[0],fps[1])\n",
    "def mutate(parent, geneSet, get_fitness):\n",
    "    childGenes = parent\n",
    "    while True:\n",
    "        oldGene, alternate = random.sample(range(0,childGenes.Mol.GetNumAtoms()), 2)\n",
    "        if childGenes.Mol.GetAtomWithIdx(alternate).IsInRing() == False and\\\n",
    "                childGenes.Mol.GetAtomWithIdx(oldGene).IsInRing() == False:\n",
    "            break\n",
    "    newGene = random.sample(geneSet, 1)[0]\n",
    "    try:\n",
    "        childGenes.Mol.GetAtomWithIdx(alternate).SetAtomicNum(newGene) if\\\n",
    "              childGenes.Mol.GetAtomWithIdx(oldGene).GetFormalCharge() != 0 else\\\n",
    "              childGenes.Mol.GetAtomWithIdx(oldGene).SetAtomicNum(newGene)\n",
    "        Chem.SanitizeMol(childGenes.Mol)\n",
    "        genes = Chem.MolToSmiles(childGenes.Mol)\n",
    "        fitness = get_fitness(genes, target)\n",
    "        return Chromosome(genes, fitness)\n",
    "    except:\n",
    "        genes = Chem.MolToSmiles(parent.Mol)\n",
    "        return Chromosome(genes, 0)\n",
    "        pass    "
   ]
  },
  {
   "cell_type": "code",
   "execution_count": 6,
   "metadata": {
    "collapsed": true
   },
   "outputs": [
    {
     "name": "stdout",
     "output_type": "stream",
     "text": [
      "0.36524822695035464\n",
      "child adopted!\tBN1C=C[NH+](CCCF)C1C\t0.3730407523510972\n",
      "child adopted!\tFPCC[NH+]1C=CN(P)C1S\t0.375366568914956\n",
      "child adopted!\tBNNN[NH+]1C=CN(C)C1P\t0.40390879478827363\n",
      "child adopted!\tBNNN[NH+]1C=CN(C)C1N\t0.41496598639455784\n",
      "child adopted!\tBC1N(O)C=C[NH+]1NCON\t0.41590214067278286\n",
      "child adopted!\tCCCC[NH+]1C=CN(N)C1P\t0.4336569579288026\n",
      "child adopted!\tNN1C=C[NH+](CCCF)C1P\t0.43450479233226835\n",
      "child adopted!\tNN1C=C[NH+](CCCP)C1P\t0.43870967741935485\n",
      "child adopted!\tCC1N(N)C=C[NH+]1NNOF\t0.4391891891891892\n",
      "child adopted!\tCONN[NH+]1C=CN(P)C1C\t0.4668769716088328\n",
      "child adopted!\tCC1N(C)C=C[NH+]1NONP\t0.5519713261648745\n",
      "child adopted!\tCC1N(C)C=C[NH+]1NONN\t0.5543478260869565\n",
      "child adopted!\tCC1N(C)C=C[NH+]1NOCN\t0.573943661971831\n",
      "child adopted!\tCC1N(C)C=C[NH+]1NBBN\t0.6174242424242424\n",
      "child adopted!\tCC1N(N)C=C[NH+]1NCNN\t0.6245059288537549\n",
      "child adopted!\tCC1N(C)C=C[NH+]1NCSP\t0.7222222222222222\n"
     ]
    }
   ],
   "source": [
    "target = \"CNCN[NH+]1C=CN(C1C)C\"\n",
    "geneSet = [5,6,7,8,9,15,16] #B,C,N,O,F,P,S\n",
    "genes = \"CCCC[NH+]1C=CN(C1C)C\"\n",
    "fitness = get_fitness(genes, target)\n",
    "parent = Chromosome(genes,fitness)\n",
    "print(parent.Fitness)\n",
    "while parent.Fitness < 0.6:\n",
    "    child = mutate(parent, geneSet, get_fitness)\n",
    "    if child.Fitness > parent.Fitness:\n",
    "        print(\"{}\\t{}\\t{}\".format(\"child adopted!\",child.Genes,child.Fitness))\n",
    "        parent = child"
   ]
  },
  {
   "cell_type": "markdown",
   "metadata": {},
   "source": [
    "# Add atoms\n",
    "\n",
    "GA is biased toward removing atoms with current similarity mapping. A good solution with be one that improves the overall functionality of the genetic engine.\n",
    "\n",
    "try: \n",
    "1. bias until number of atoms match target\n",
    "2. find MCS and start from there\n",
    "3. combination of 1 and 2\n",
    "4. **add segments to geneSet**\n"
   ]
  },
  {
   "cell_type": "code",
   "execution_count": 3,
   "metadata": {
    "collapsed": true
   },
   "outputs": [],
   "source": [
    "class Chromosome(Chem.rdchem.Mol):\n",
    "    def __init__(self, genes, fitness):\n",
    "        Chem.rdchem.Mol.__init__(self)\n",
    "        self.Genes = genes\n",
    "        self.Fitness = fitness\n",
    "        self.Mol = Chem.MolFromSmiles(genes)\n",
    "        self.RWMol = Chem.RWMol(Chem.MolFromSmiles(genes))\n",
    "        self.EditableMol = Chem.EditableMol(Chem.MolFromSmiles(genes))\n",
    "def get_fitness(genes, target):\n",
    "    ms = [Chem.MolFromSmiles(target), Chem.MolFromSmiles(genes)]\n",
    "    fps = [FingerprintMols.FingerprintMol(x) for x in ms]\n",
    "    return DataStructs.FingerprintSimilarity(fps[0],fps[1])\n",
    "def mutate(parent, geneSet, get_fitness):\n",
    "    childGenes = parent\n",
    "    mutate_operations = [\"replace atom\", \"add atom\", \"remove atom\"]\n",
    "    mutation_type = random.sample(mutate_operations, 1)[0]\n",
    "    if mutation_type == \"replace atom\":\n",
    "        while True:\n",
    "            oldGene, alternate = random.sample(range(0,childGenes.RWMol.GetNumAtoms()), 2)\n",
    "            if childGenes.RWMol.GetAtomWithIdx(alternate).IsInRing() == False and\\\n",
    "                    childGenes.RWMol.GetAtomWithIdx(oldGene).IsInRing() == False:\n",
    "                break\n",
    "        newGene = random.sample(geneSet, 1)[0]\n",
    "        try:\n",
    "            childGenes.RWMol.GetAtomWithIdx(alternate).SetAtomicNum(newGene) if\\\n",
    "                  childGenes.RWMol.GetAtomWithIdx(oldGene).GetFormalCharge() != 0 else\\\n",
    "                  childGenes.RWMol.GetAtomWithIdx(oldGene).SetAtomicNum(newGene)\n",
    "            Chem.SanitizeMol(childGenes.RWMol)\n",
    "            genes = Chem.MolToSmiles(childGenes.RWMol)\n",
    "            fitness = get_fitness(genes, target)\n",
    "            return Chromosome(genes, fitness)\n",
    "        except:\n",
    "            genes = Chem.MolToSmiles(parent.Mol)\n",
    "            return Chromosome(genes, 0)\n",
    "            pass    \n",
    "    elif mutation_type == \"remove atom\":\n",
    "        \n",
    "        while True:\n",
    "            oldGene = random.sample(range(childGenes.RWMol.GetNumAtoms()), 1)[0]\n",
    "            if childGenes.RWMol.GetAtomWithIdx(oldGene).GetExplicitValence() == 1:\n",
    "                break\n",
    "        try:\n",
    "            childGenes.RWMol.RemoveAtom(oldGene)\n",
    "            childGenes.RWMol.UpdatePropertyCache(strict=True)\n",
    "            Chem.SanitizeMol(childGenes.RWMol)\n",
    "            genes = Chem.MolToSmiles(childGenes.RWMol)\n",
    "            fitness = get_fitness(genes, target)\n",
    "            return Chromosome(genes, fitness)\n",
    "        except:\n",
    "            genes = Chem.MolToSmiles(parent.Mol)\n",
    "            return Chromosome(genes, 0)\n",
    "            pass\n",
    "    elif mutation_type == \"add atom\":\n",
    "        oldGene = random.sample(range(childGenes.RWMol.GetNumAtoms()), 1)[0]\n",
    "        newGeneNumber = childGenes.RWMol.GetNumAtoms()\n",
    "        \n",
    "        try:\n",
    "            childGenes.RWMol.AddAtom(Chem.Atom(newGene))\n",
    "            childGenes.RWMol.AddBond(newGeneNumber,oldGene,Chem.BondType.SINGLE) \n",
    "            childGenes.RWMol.UpdatePropertyCache(strict=True)\n",
    "            Chem.SanitizeMol(childGenes.RWMol)\n",
    "            genes = Chem.MolToSmiles(childGenes.RWMol)\n",
    "            fitness = get_fitness(genes, target)\n",
    "            return Chromosome(genes, fitness)\n",
    "        except:\n",
    "            genes = Chem.MolToSmiles(parent.Mol)\n",
    "            return Chromosome(genes, 0)\n",
    "            pass"
   ]
  },
  {
   "cell_type": "code",
   "execution_count": 4,
   "metadata": {
    "collapsed": true
   },
   "outputs": [
    {
     "name": "stdout",
     "output_type": "stream",
     "text": [
      "a new parent!\tCCCC[NH+]1C=CN(C1C)C\t0.36524822695035464\n",
      "child adopted!\tCCCP[NH+]1C=CN(C)C1C\t0.3738019169329074\n",
      "child adopted!\tBS[NH+]1C=CNC1\t0.5084745762711864\n"
     ]
    },
    {
     "data": {
      "image/png": "[encoded data removed]",
      "text/plain": [
       "<matplotlib.figure.Figure at 0x7f3f47547710>"
      ]
     },
     "metadata": {},
     "output_type": "display_data"
    },
    {
     "data": {
      "image/png": "[encoded data removed]",
      "text/plain": [
       "<matplotlib.figure.Figure at 0x7f3ef5aff748>"
      ]
     },
     "metadata": {},
     "output_type": "display_data"
    }
   ],
   "source": [
    "target = \"CNCN[NH+]1C=CN(C1C)C\"\n",
    "geneSet = [5,6,7,8,9,15,16] #B,C,N,O,F,P,S\n",
    "genes = \"CCCC[NH+]1C=CN(C1C)C\"\n",
    "fitness = get_fitness(genes, target)\n",
    "parent = Chromosome(genes,fitness)\n",
    "print(\"{}\\t{}\\t{}\".format(\"a new parent!\",parent.Genes,parent.Fitness))\n",
    "while parent.Fitness < 0.5:\n",
    "    child = mutate(parent, geneSet, get_fitness)\n",
    "    if child.Fitness > parent.Fitness:\n",
    "        print(\"{}\\t{}\\t{}\".format(\"child adopted!\",child.Genes,child.Fitness))\n",
    "        parent = child\n",
    "        mw = Chem.MolFromSmiles(parent.Genes)\n",
    "        ax = Draw.MolToMPL(mw)"
   ]
  },
  {
   "cell_type": "markdown",
   "metadata": {},
   "source": [
    "# Add fragments"
   ]
  },
  {
   "cell_type": "code",
   "execution_count": 140,
   "metadata": {
    "collapsed": true
   },
   "outputs": [],
   "source": [
    "class Chromosome(Chem.rdchem.Mol):\n",
    "    def __init__(self, genes, fitness):\n",
    "        Chem.rdchem.Mol.__init__(self)\n",
    "        self.Genes = genes\n",
    "        self.Fitness = fitness\n",
    "        self.Mol = Chem.MolFromSmiles(genes)\n",
    "        self.RWMol = Chem.RWMol(Chem.MolFromSmiles(genes))\n",
    "def get_fitness(genes, target):\n",
    "    ms = [Chem.MolFromSmiles(target), Chem.MolFromSmiles(genes)]\n",
    "    fps = [FingerprintMols.FingerprintMol(x) for x in ms]\n",
    "    return DataStructs.FingerprintSimilarity(fps[0],fps[1])\n",
    "def mutate(parent, geneSet, get_fitness):\n",
    "    childGenes = Chromosome(parent.Genes,0)\n",
    "    mutate_operations = [\"add fragment\", \"remove atom\", \"replace atom\", \"add atom\"]\n",
    "    mutation_type = random.sample(mutate_operations, 1)[0]\n",
    "    if mutation_type == \"replace atom\":\n",
    "        oldGene = random.sample(range(childGenes.RWMol.GetNumAtoms()), 1)[0]\n",
    "        if childGenes.RWMol.GetAtomWithIdx(oldGene).IsInRing() == True:\n",
    "            genes = Chem.MolToSmiles(parent.Mol)\n",
    "            return Chromosome(genes, 0)\n",
    "        newGene = random.sample(geneSet, 1)[0]\n",
    "        try:\n",
    "            childGenes.RWMol.GetAtomWithIdx(oldGene).SetAtomicNum(newGene) \n",
    "            Chem.SanitizeMol(childGenes.RWMol)\n",
    "            genes = Chem.MolToSmiles(childGenes.RWMol)\n",
    "            fitness = get_fitness(genes, target)\n",
    "            return Chromosome(genes, fitness)\n",
    "        except:\n",
    "            genes = Chem.MolToSmiles(parent.Mol)\n",
    "            return Chromosome(genes, 0)\n",
    "            pass    \n",
    "    elif mutation_type == \"add atom\":\n",
    "        oldGene = random.sample(range(childGenes.RWMol.GetNumAtoms()), 1)[0]\n",
    "        newGeneNumber = childGenes.RWMol.GetNumAtoms()   \n",
    "        try:\n",
    "            newGene = random.sample(geneSet, 1)[0]\n",
    "            childGenes.RWMol.AddAtom(Chem.Atom(newGene))\n",
    "            childGenes.RWMol.AddBond(newGeneNumber,oldGene,Chem.BondType.SINGLE) \n",
    "            childGenes.RWMol.UpdatePropertyCache(strict=True)\n",
    "            Chem.SanitizeMol(childGenes.RWMol)\n",
    "            genes = Chem.MolToSmiles(childGenes.RWMol)\n",
    "            fitness = get_fitness(genes, target)\n",
    "            return Chromosome(genes, fitness)\n",
    "\n",
    "        except:\n",
    "            genes = Chem.MolToSmiles(parent.Mol)\n",
    "            return Chromosome(genes, 0)\n",
    "            pass\n",
    "    elif mutation_type == \"add fragment\":\n",
    "        try:\n",
    "            RDKitOrCustom = random.sample([0,1],1)[0]\n",
    "            if RDKitOrCustom == 1:\n",
    "                newGene = Chromosome(Chem.MolToSmiles(fparams.GetFuncGroup(\\\n",
    "                    random.sample(range(fparams.GetNumFuncGroups()), 1)[0])),0)\n",
    "            else:\n",
    "                newGene = Chromosome(fcat.GetEntryDescription(\\\n",
    "                    random.sample(range(fcat.GetNumEntries()), 1)[0]),0)\n",
    "            combined = Chem.EditableMol(Chem.CombineMols(newGene.Mol,childGenes.Mol))\n",
    "            oldGene = random.sample(range(childGenes.RWMol.GetNumAtoms()), 1)[0]\\\n",
    "                + newGene.Mol.GetNumAtoms()\n",
    "            if RDKitOrCustom == 1:\n",
    "                combined.AddBond(1,oldGene,order=Chem.rdchem.BondType.SINGLE)\n",
    "                combined.RemoveAtom(0)\n",
    "            else:\n",
    "                combined.AddBond(0,oldGene,order=Chem.rdchem.BondType.SINGLE)\n",
    "            childGenes = combined.GetMol()\n",
    "            Chem.SanitizeMol(childGenes)\n",
    "            genes = Chem.MolToSmiles(childGenes)\n",
    "            fitness = get_fitness(genes, target)\n",
    "            return Chromosome(genes, fitness)\n",
    "        except:    \n",
    "            genes = Chem.MolToSmiles(parent.Mol)\n",
    "            return Chromosome(genes, 0)\n",
    "            pass\n",
    "    elif mutation_type == \"remove atom\":\n",
    "        oldGene = random.sample(range(childGenes.RWMol.GetNumAtoms()), 1)[0]\n",
    "        if childGenes.RWMol.GetAtomWithIdx(oldGene).GetExplicitValence() != 1:\n",
    "            genes = Chem.MolToSmiles(parent.Mol)\n",
    "            return Chromosome(genes, 0)\n",
    "        try:\n",
    "            childGenes.RWMol.RemoveAtom(oldGene)\n",
    "            childGenes.RWMol.UpdatePropertyCache(strict=True)\n",
    "            Chem.SanitizeMol(childGenes.RWMol)\n",
    "            genes = Chem.MolToSmiles(childGenes.RWMol)\n",
    "            fitness = get_fitness(genes, target)\n",
    "            return Chromosome(genes, fitness)\n",
    "        except:\n",
    "            genes = Chem.MolToSmiles(parent.Mol)\n",
    "            return Chromosome(genes, 0)\n",
    "            pass"
   ]
  },
  {
   "cell_type": "code",
   "execution_count": 152,
   "metadata": {
    "scrolled": false
   },
   "outputs": [
    {
     "name": "stdout",
     "output_type": "stream",
     "text": [
      "a new parent!\t[NH+]1C=CN(C1C)C\t0.580952380952381\n",
      "child adopted!\tCCCCC1[NH+]C=CN1C\t0.6604938271604939\n",
      "child adopted!\tCCCCC1N(C)C=C[NH+]1C\t0.7098765432098766\n",
      "child adopted!\tCCCCC1N(CCCC)C=C[NH+]1C\t0.8421052631578947\n",
      "child adopted!\tCCCCN1C=C[NH+](C)C1CCC\t0.8712871287128713\n",
      "child adopted!\tCCCCN1C=C[NH+](C)C1CC\t0.8979591836734694\n",
      "child adopted!\tCCCCN1C=C[NH+](C)C1C\t1.0\n"
     ]
    },
    {
     "data": {
      "image/png": "[encoded data removed]",
      "text/plain": [
       "<matplotlib.figure.Figure at 0x118000e80>"
      ]
     },
     "metadata": {},
     "output_type": "display_data"
    }
   ],
   "source": [
    "fName=os.path.join(RDConfig.RDDataDir,'FunctionalGroups.txt')\n",
    "fparams = FragmentCatalog.FragCatParams(1,5,fName)\n",
    "fcat=FragmentCatalog.FragCatalog(fparams)\n",
    "fcgen=FragmentCatalog.FragCatGenerator()\n",
    "m1 = Chem.MolFromSmiles('CCCC')\n",
    "fcgen.AddFragsFromMol(m1,fcat)\n",
    "\n",
    "target = \"CCCC[NH+]1C=CN(C1C)C\"\n",
    "geneSet = [6,7]#[5,6,7,8,9,15,16] #B,C,N,O,F,P,S\n",
    "genes = \"[NH+]1C=CN(C1C)C\"\n",
    "fitness = get_fitness(genes, target)\n",
    "parent = Chromosome(genes,fitness)\n",
    "\n",
    "print(\"{}\\t{}\\t{}\".format(\"a new parent!\",parent.Genes,parent.Fitness))\n",
    "\n",
    "while parent.Fitness < 0.9:\n",
    "    child = mutate(parent, geneSet, get_fitness)\n",
    "    if child.Fitness > parent.Fitness:\n",
    "        print(\"{}\\t{}\\t{}\".format(\"child adopted!\",child.Genes,child.Fitness))\n",
    "        parent = child\n",
    "mw = Chem.MolFromSmiles(parent.Genes)\n",
    "ax = Draw.MolToMPL(mw)"
   ]
  },
  {
   "cell_type": "markdown",
   "metadata": {},
   "source": [
    "# Make it Pythonic"
   ]
  },
  {
   "cell_type": "code",
   "execution_count": 134,
   "metadata": {
    "collapsed": true
   },
   "outputs": [],
   "source": [
    "class Chromosome(Chem.rdchem.Mol):\n",
    "    def __init__(self, genes, fitness):\n",
    "        Chem.rdchem.Mol.__init__(self)\n",
    "        self.Genes = genes\n",
    "        self.Fitness = fitness\n",
    "        self.Mol = Chem.MolFromSmiles(genes)\n",
    "        self.RWMol = Chem.RWMol(Chem.MolFromSmiles(genes))\n",
    "def get_fitness(genes, target):\n",
    "    ms = [Chem.MolFromSmiles(target), Chem.MolFromSmiles(genes)]\n",
    "    fps = [FingerprintMols.FingerprintMol(x) for x in ms]\n",
    "    return DataStructs.FingerprintSimilarity(fps[0],fps[1])\n",
    "def mutate(parent, geneSet, get_fitness):\n",
    "    childGenes = Chromosome(parent.Genes,0)\n",
    "    mutate_operations = [\"add fragment\", \"remove atom\", \"replace atom\", \"add atom\"]\n",
    "    mutation_type = random.sample(mutate_operations, 1)[0]\n",
    "    if mutation_type == \"replace atom\":\n",
    "        oldGene = random.sample(range(childGenes.RWMol.GetNumAtoms()), 1)[0]\n",
    "        if childGenes.RWMol.GetAtomWithIdx(oldGene).IsInRing() == True:\n",
    "            genes = Chem.MolToSmiles(parent.Mol)\n",
    "            return Chromosome(genes, 0)\n",
    "        newGene = random.sample(geneSet, 1)[0]\n",
    "        try:\n",
    "            childGenes.RWMol.GetAtomWithIdx(oldGene).SetAtomicNum(newGene) \n",
    "            Chem.SanitizeMol(childGenes.RWMol)\n",
    "            genes = Chem.MolToSmiles(childGenes.RWMol)\n",
    "            fitness = get_fitness(genes, target)\n",
    "            return Chromosome(genes, fitness)\n",
    "        except:\n",
    "            genes = Chem.MolToSmiles(parent.Mol)\n",
    "            return Chromosome(genes, 0)\n",
    "            pass    \n",
    "    elif mutation_type == \"add atom\":\n",
    "        oldGene = random.sample(range(childGenes.RWMol.GetNumAtoms()), 1)[0]\n",
    "        newGeneNumber = childGenes.RWMol.GetNumAtoms()   \n",
    "        try:\n",
    "            newGene = random.sample(geneSet, 1)[0]\n",
    "            childGenes.RWMol.AddAtom(Chem.Atom(newGene))\n",
    "            childGenes.RWMol.AddBond(newGeneNumber,oldGene,Chem.BondType.SINGLE) \n",
    "            childGenes.RWMol.UpdatePropertyCache(strict=True)\n",
    "            Chem.SanitizeMol(childGenes.RWMol)\n",
    "            genes = Chem.MolToSmiles(childGenes.RWMol)\n",
    "            fitness = get_fitness(genes, target)\n",
    "            return Chromosome(genes, fitness)\n",
    "\n",
    "        except:\n",
    "            genes = Chem.MolToSmiles(parent.Mol)\n",
    "            return Chromosome(genes, 0)\n",
    "            pass\n",
    "    elif mutation_type == \"add fragment\":\n",
    "        try:\n",
    "            RDKitOrCustom = random.sample([0,1],1)[0]\n",
    "            if RDKitOrCustom == 2:\n",
    "                newGene = Chromosome(Chem.MolToSmiles(fparams.GetFuncGroup(\\\n",
    "                    random.sample(range(fparams.GetNumFuncGroups()), 1)[0])),0)\n",
    "            else:\n",
    "                newGene = Chromosome(fcat.GetEntryDescription(\\\n",
    "                    random.sample(range(fcat.GetNumEntries()), 1)[0]),0)\n",
    "            combined = Chem.EditableMol(Chem.CombineMols(childGenes.Mol,newGene.Mol))\n",
    "            oldGene = random.sample(range(childGenes.RWMol.GetNumAtoms()), 1)[0]\n",
    "            if RDKitOrCustom == 2:\n",
    "                combined.AddBond(oldGene,ChildGenes.Mol.GetNumAtoms()+1,order=Chem.rdchem.BondType.SINGLE)\n",
    "                combined.RemoveAtom(ChildGenes.Mol.GetNumAtoms())\n",
    "            else:\n",
    "                combined.AddBond(oldGene,ChildGenes.Mol.GetNumAtoms(),order=Chem.rdchem.BondType.SINGLE)\n",
    "            childGenes = combined.GetMol()\n",
    "            Chem.SanitizeMol(childGenes)\n",
    "            genes = Chem.MolToSmiles(childGenes)\n",
    "            fitness = get_fitness(genes, target)\n",
    "            return Chromosome(genes, fitness)\n",
    "        except:    \n",
    "            genes = Chem.MolToSmiles(parent.Mol)\n",
    "            return Chromosome(genes, 0)\n",
    "            pass\n",
    "    elif mutation_type == \"remove atom\":\n",
    "        oldGene = random.sample(range(childGenes.RWMol.GetNumAtoms()), 1)[0]\n",
    "        if childGenes.RWMol.GetAtomWithIdx(oldGene).GetExplicitValence() != 1:\n",
    "            genes = Chem.MolToSmiles(parent.Mol)\n",
    "            return Chromosome(genes, 0)\n",
    "        try:\n",
    "            childGenes.RWMol.RemoveAtom(oldGene)\n",
    "            childGenes.RWMol.UpdatePropertyCache(strict=True)\n",
    "            Chem.SanitizeMol(childGenes.RWMol)\n",
    "            genes = Chem.MolToSmiles(childGenes.RWMol)\n",
    "            fitness = get_fitness(genes, target)\n",
    "            return Chromosome(genes, fitness)\n",
    "        except:\n",
    "            genes = Chem.MolToSmiles(parent.Mol)\n",
    "            return Chromosome(genes, 0)\n",
    "            pass"
   ]
  },
  {
   "cell_type": "code",
   "execution_count": 135,
   "metadata": {
    "scrolled": false
   },
   "outputs": [
    {
     "name": "stdout",
     "output_type": "stream",
     "text": [
      "a new parent!\t[NH+]1C=CN(C1C)C\t0.580952380952381\n",
      "child adopted!\tCC1=CN(C)C(C)[NH+]1\t0.5963855421686747\n"
     ]
    },
    {
     "ename": "KeyboardInterrupt",
     "evalue": "",
     "output_type": "error",
     "traceback": [
      "\u001b[0;31m---------------------------------------------------------------------------\u001b[0m",
      "\u001b[0;31mKeyboardInterrupt\u001b[0m                         Traceback (most recent call last)",
      "\u001b[0;32m<ipython-input-135-14b3c1e9450f>\u001b[0m in \u001b[0;36m<module>\u001b[0;34m()\u001b[0m\n\u001b[1;32m     15\u001b[0m \u001b[0;34m\u001b[0m\u001b[0m\n\u001b[1;32m     16\u001b[0m \u001b[0;32mwhile\u001b[0m \u001b[0mparent\u001b[0m\u001b[0;34m.\u001b[0m\u001b[0mFitness\u001b[0m \u001b[0;34m<\u001b[0m \u001b[0;36m0.9\u001b[0m\u001b[0;34m:\u001b[0m\u001b[0;34m\u001b[0m\u001b[0m\n\u001b[0;32m---> 17\u001b[0;31m     \u001b[0mchild\u001b[0m \u001b[0;34m=\u001b[0m \u001b[0mmutate\u001b[0m\u001b[0;34m(\u001b[0m\u001b[0mparent\u001b[0m\u001b[0;34m,\u001b[0m \u001b[0mgeneSet\u001b[0m\u001b[0;34m,\u001b[0m \u001b[0mget_fitness\u001b[0m\u001b[0;34m)\u001b[0m\u001b[0;34m\u001b[0m\u001b[0m\n\u001b[0m\u001b[1;32m     18\u001b[0m     \u001b[0;32mif\u001b[0m \u001b[0mchild\u001b[0m\u001b[0;34m.\u001b[0m\u001b[0mFitness\u001b[0m \u001b[0;34m>\u001b[0m \u001b[0mparent\u001b[0m\u001b[0;34m.\u001b[0m\u001b[0mFitness\u001b[0m\u001b[0;34m:\u001b[0m\u001b[0;34m\u001b[0m\u001b[0m\n\u001b[1;32m     19\u001b[0m         \u001b[0mprint\u001b[0m\u001b[0;34m(\u001b[0m\u001b[0;34m\"{}\\t{}\\t{}\"\u001b[0m\u001b[0;34m.\u001b[0m\u001b[0mformat\u001b[0m\u001b[0;34m(\u001b[0m\u001b[0;34m\"child adopted!\"\u001b[0m\u001b[0;34m,\u001b[0m\u001b[0mchild\u001b[0m\u001b[0;34m.\u001b[0m\u001b[0mGenes\u001b[0m\u001b[0;34m,\u001b[0m\u001b[0mchild\u001b[0m\u001b[0;34m.\u001b[0m\u001b[0mFitness\u001b[0m\u001b[0;34m)\u001b[0m\u001b[0;34m)\u001b[0m\u001b[0;34m\u001b[0m\u001b[0m\n",
      "\u001b[0;32m<ipython-input-134-6ae6ba6e0650>\u001b[0m in \u001b[0;36mmutate\u001b[0;34m(parent, geneSet, get_fitness)\u001b[0m\n\u001b[1;32m     13\u001b[0m     \u001b[0mchildGenes\u001b[0m \u001b[0;34m=\u001b[0m \u001b[0mChromosome\u001b[0m\u001b[0;34m(\u001b[0m\u001b[0mparent\u001b[0m\u001b[0;34m.\u001b[0m\u001b[0mGenes\u001b[0m\u001b[0;34m,\u001b[0m\u001b[0;36m0\u001b[0m\u001b[0;34m)\u001b[0m\u001b[0;34m\u001b[0m\u001b[0m\n\u001b[1;32m     14\u001b[0m     \u001b[0mmutate_operations\u001b[0m \u001b[0;34m=\u001b[0m \u001b[0;34m[\u001b[0m\u001b[0;34m\"add fragment\"\u001b[0m\u001b[0;34m,\u001b[0m \u001b[0;34m\"remove atom\"\u001b[0m\u001b[0;34m,\u001b[0m \u001b[0;34m\"replace atom\"\u001b[0m\u001b[0;34m,\u001b[0m \u001b[0;34m\"add atom\"\u001b[0m\u001b[0;34m]\u001b[0m\u001b[0;34m\u001b[0m\u001b[0m\n\u001b[0;32m---> 15\u001b[0;31m     \u001b[0mmutation_type\u001b[0m \u001b[0;34m=\u001b[0m \u001b[0mrandom\u001b[0m\u001b[0;34m.\u001b[0m\u001b[0msample\u001b[0m\u001b[0;34m(\u001b[0m\u001b[0mmutate_operations\u001b[0m\u001b[0;34m,\u001b[0m \u001b[0;36m1\u001b[0m\u001b[0;34m)\u001b[0m\u001b[0;34m[\u001b[0m\u001b[0;36m0\u001b[0m\u001b[0;34m]\u001b[0m\u001b[0;34m\u001b[0m\u001b[0m\n\u001b[0m\u001b[1;32m     16\u001b[0m     \u001b[0;32mif\u001b[0m \u001b[0mmutation_type\u001b[0m \u001b[0;34m==\u001b[0m \u001b[0;34m\"replace atom\"\u001b[0m\u001b[0;34m:\u001b[0m\u001b[0;34m\u001b[0m\u001b[0m\n\u001b[1;32m     17\u001b[0m         \u001b[0moldGene\u001b[0m \u001b[0;34m=\u001b[0m \u001b[0mrandom\u001b[0m\u001b[0;34m.\u001b[0m\u001b[0msample\u001b[0m\u001b[0;34m(\u001b[0m\u001b[0mrange\u001b[0m\u001b[0;34m(\u001b[0m\u001b[0mchildGenes\u001b[0m\u001b[0;34m.\u001b[0m\u001b[0mRWMol\u001b[0m\u001b[0;34m.\u001b[0m\u001b[0mGetNumAtoms\u001b[0m\u001b[0;34m(\u001b[0m\u001b[0;34m)\u001b[0m\u001b[0;34m)\u001b[0m\u001b[0;34m,\u001b[0m \u001b[0;36m1\u001b[0m\u001b[0;34m)\u001b[0m\u001b[0;34m[\u001b[0m\u001b[0;36m0\u001b[0m\u001b[0;34m]\u001b[0m\u001b[0;34m\u001b[0m\u001b[0m\n",
      "\u001b[0;32m/Users/wesleybeckner/anaconda/envs/py3/lib/python3.5/random.py\u001b[0m in \u001b[0;36msample\u001b[0;34m(self, population, k)\u001b[0m\n\u001b[1;32m    315\u001b[0m         \u001b[0;31m# set and it doesn't suffer from frequent reselections.\u001b[0m\u001b[0;34m\u001b[0m\u001b[0;34m\u001b[0m\u001b[0m\n\u001b[1;32m    316\u001b[0m \u001b[0;34m\u001b[0m\u001b[0m\n\u001b[0;32m--> 317\u001b[0;31m         \u001b[0;32mif\u001b[0m \u001b[0misinstance\u001b[0m\u001b[0;34m(\u001b[0m\u001b[0mpopulation\u001b[0m\u001b[0;34m,\u001b[0m \u001b[0m_Set\u001b[0m\u001b[0;34m)\u001b[0m\u001b[0;34m:\u001b[0m\u001b[0;34m\u001b[0m\u001b[0m\n\u001b[0m\u001b[1;32m    318\u001b[0m             \u001b[0mpopulation\u001b[0m \u001b[0;34m=\u001b[0m \u001b[0mtuple\u001b[0m\u001b[0;34m(\u001b[0m\u001b[0mpopulation\u001b[0m\u001b[0;34m)\u001b[0m\u001b[0;34m\u001b[0m\u001b[0m\n\u001b[1;32m    319\u001b[0m         \u001b[0;32mif\u001b[0m \u001b[0;32mnot\u001b[0m \u001b[0misinstance\u001b[0m\u001b[0;34m(\u001b[0m\u001b[0mpopulation\u001b[0m\u001b[0;34m,\u001b[0m \u001b[0m_Sequence\u001b[0m\u001b[0;34m)\u001b[0m\u001b[0;34m:\u001b[0m\u001b[0;34m\u001b[0m\u001b[0m\n",
      "\u001b[0;31mKeyboardInterrupt\u001b[0m: "
     ]
    }
   ],
   "source": [
    "fName=os.path.join(RDConfig.RDDataDir,'FunctionalGroups.txt')\n",
    "fparams = FragmentCatalog.FragCatParams(1,5,fName)\n",
    "fcat=FragmentCatalog.FragCatalog(fparams)\n",
    "fcgen=FragmentCatalog.FragCatGenerator()\n",
    "m1 = Chem.MolFromSmiles('CCCC')\n",
    "fcgen.AddFragsFromMol(m1,fcat)\n",
    "\n",
    "target = \"CCCC[NH+]1C=CN(C1C)C\"\n",
    "geneSet = [6,7]#[5,6,7,8,9,15,16] #B,C,N,O,F,P,S\n",
    "genes = \"[NH+]1C=CN(C1C)C\"\n",
    "fitness = get_fitness(genes, target)\n",
    "parent = Chromosome(genes,fitness)\n",
    "\n",
    "print(\"{}\\t{}\\t{}\".format(\"a new parent!\",parent.Genes,parent.Fitness))\n",
    "\n",
    "while parent.Fitness < 0.9:\n",
    "    child = mutate(parent, geneSet, get_fitness)\n",
    "    if child.Fitness > parent.Fitness:\n",
    "        print(\"{}\\t{}\\t{}\".format(\"child adopted!\",child.Genes,child.Fitness))\n",
    "        parent = child\n",
    "mw = Chem.MolFromSmiles(parent.Genes)\n",
    "ax = Draw.MolToMPL(mw)"
   ]
  },
  {
   "cell_type": "code",
   "execution_count": 58,
   "metadata": {
    "collapsed": true
   },
   "outputs": [
    {
     "name": "stdout",
     "output_type": "stream",
     "text": [
      "number of atoms: \t8\n",
      "atom C ring status:\tFalse\n",
      "atom C ring status:\tFalse\n",
      "atom N ring status:\tFalse\n",
      "atom C ring status:\tFalse\n",
      "atom C ring status:\tFalse\n",
      "atom N ring status:\tFalse\n",
      "atom C ring status:\tFalse\n",
      "atom C ring status:\tFalse\n"
     ]
    },
    {
     "data": {
      "image/png": "[encoded data removed]",
      "text/plain": [
       "<matplotlib.figure.Figure at 0x7f0f389e1f98>"
      ]
     },
     "metadata": {},
     "output_type": "display_data"
    },
    {
     "data": {
      "image/png": "[encoded data removed]",
      "text/plain": [
       "<matplotlib.figure.Figure at 0x7f0f389d8eb8>"
      ]
     },
     "metadata": {},
     "output_type": "display_data"
    }
   ],
   "source": [
    "df = pd.read_csv(\"saltInfo.csv\")\n",
    "mol1 = Chem.MolFromSmiles(df[\"cation_SMILES\"][0])\n",
    "mol2 = Chem.MolFromSmiles(df[\"cation_SMILES\"][1])\n",
    "mols = [mol1,mol2]\n",
    "res=rdFMCS.FindMCS(mols)\n",
    "mol = Chem.MolFromSmarts(res.smartsString)\n",
    "print(\"{}\\t{}\".format(\"number of atoms: \", mol.GetNumAtoms()))\n",
    "for atom in mol.GetAtoms():\n",
    "    print(\"{}\\t{}\".format(\"atom %s ring status:\"\\\n",
    "            %atom.GetSymbol(), atom.IsInRing()))\n",
    "ax1=Draw.MolToMPL(mol1)\n",
    "ax2=Draw.MolToMPL(mol2)"
   ]
  },
  {
   "cell_type": "code",
   "execution_count": 133,
   "metadata": {},
   "outputs": [
    {
     "name": "stdout",
     "output_type": "stream",
     "text": [
      "a new parent!\t[NH+]1C=CN(C1C)C\t0.580952380952381\n",
      "4\n",
      "7\n"
     ]
    },
    {
     "data": {
      "image/png": "[encoded data removed]",
      "text/plain": [
       "<matplotlib.figure.Figure at 0x117d9a3c8>"
      ]
     },
     "execution_count": 133,
     "metadata": {},
     "output_type": "execute_result"
    },
    {
     "data": {
      "image/png": "[encoded data removed]",
      "text/plain": [
       "<matplotlib.figure.Figure at 0x117d9a3c8>"
      ]
     },
     "metadata": {},
     "output_type": "display_data"
    }
   ],
   "source": [
    "fName=os.path.join(RDConfig.RDDataDir,'FunctionalGroups.txt')\n",
    "fparams = FragmentCatalog.FragCatParams(1,5,fName)\n",
    "fcat=FragmentCatalog.FragCatalog(fparams)\n",
    "fcgen=FragmentCatalog.FragCatGenerator()\n",
    "m1 = Chem.MolFromSmiles('CCCC')\n",
    "fcgen.AddFragsFromMol(m1,fcat)\n",
    "\n",
    "target = \"CCCC[NH+]1C=CN(C1C)C\"\n",
    "geneSet = [6,7]#[5,6,7,8,9,15,16] #B,C,N,O,F,P,S\n",
    "genes = \"[NH+]1C=CN(C1C)C\"\n",
    "fitness = get_fitness(genes, target)\n",
    "parent = Chromosome(genes,fitness)\n",
    "\n",
    "print(\"{}\\t{}\\t{}\".format(\"a new parent!\",parent.Genes,parent.Fitness))\n",
    "\n",
    "childGenes = Chromosome(parent.Genes,0)\n",
    "\n",
    "\n",
    "newGene = Chromosome(fcat.GetEntryDescription(\\\n",
    "    random.sample(range(fcat.GetNumEntries()), 1)[0]),0)\n",
    "\n",
    "combined = Chem.EditableMol(Chem.CombineMols(childGenes.Mol,newGene.Mol))\n",
    "\n",
    "oldGene = random.sample(range(childGenes.RWMol.GetNumAtoms()), 1)[0]\n",
    "print(oldGene)\n",
    "print(childGenes.Mol.GetNumAtoms())\n",
    "combined.AddBond(oldGene,childGenes.Mol.GetNumAtoms(),order=Chem.rdchem.BondType.SINGLE)\n",
    "childGenes = combined.GetMol()\n",
    "Chem.SanitizeMol(childGenes)\n",
    "genes = Chem.MolToSmiles(childGenes)\n",
    "fitness = get_fitness(genes, target)\n",
    "m = Chromosome(genes,fitness)\n",
    "Draw.MolToMPL(m.Mol)"
   ]
  }
 ],
 "metadata": {
  "kernelspec": {
   "display_name": "Python 3",
   "language": "python",
   "name": "python3"
  },
  "language_info": {
   "codemirror_mode": {
    "name": "ipython",
    "version": 3
   },
   "file_extension": ".py",
   "mimetype": "text/x-python",
   "name": "python",
   "nbconvert_exporter": "python",
   "pygments_lexer": "ipython3",
   "version": "3.5.3"
  }
 },
 "nbformat": 4,
 "nbformat_minor": 1
}
