{
 "cells": [
  {
   "cell_type": "markdown",
   "metadata": {},
   "source": [
    "### Genetic Algorithm Can Accurately Navigate Structure Space for Low Viscosity Ionic Liquids\n",
    "1. X versions - no RDKit integration\n",
    "2. X versions - RDKit integration\n",
    "    1. atomic mutations, alpha-num fitness test, fixed bonds, non-random starting structure\n",
    "    2. atomic mutations, similarity map fitness test, fixed bonds, non-random starting structure\n",
    "    3. atomic mutations, similarity map fitness test, bond mutations, non-random starting structure\n",
    "    4. atomic mutations, similarity map fitness test, bond mutations, random starting structure\n",
    "3. X versions - viscosity fitness tests\n",
    "4. X versions - performance upgrades using clustering/similarity maps\n",
    "5. X versions - different search structures\n"
   ]
  },
  {
   "cell_type": "code",
   "execution_count": 1,
   "metadata": {
    "collapsed": true
   },
   "outputs": [],
   "source": [
    "import rdkit\n",
    "from rdkit import Chem, DataStructs\n",
    "from rdkit.Chem import AllChem as Chem\n",
    "from rdkit.Chem import AllChem\n",
    "from rdkit.Chem import Draw\n",
    "from rdkit.Chem.Draw import SimilarityMaps\n",
    "from rdkit.Chem.Fingerprints import FingerprintMols\n",
    "from rdkit.Chem import rdFMCS\n",
    "import random\n",
    "import os\n",
    "import pandas as pd\n",
    "import matplotlib.pylab as plt\n",
    "%matplotlib inline"
   ]
  },
  {
   "cell_type": "markdown",
   "metadata": {},
   "source": [
    "# Replace atoms"
   ]
  },
  {
   "cell_type": "code",
   "execution_count": 2,
   "metadata": {
    "collapsed": true
   },
   "outputs": [],
   "source": [
    "class Chromosome(Chem.rdchem.Mol):\n",
    "    def __init__(self, genes, fitness):\n",
    "        Chem.rdchem.Mol.__init__(self)\n",
    "        self.Genes = genes\n",
    "        self.Fitness = fitness\n",
    "        self.Mol = Chem.MolFromSmiles(genes)\n",
    "def get_fitness(genes, target):\n",
    "    ms = [Chem.MolFromSmiles(target), Chem.MolFromSmiles(genes)]\n",
    "    fps = [FingerprintMols.FingerprintMol(x) for x in ms]\n",
    "    return DataStructs.FingerprintSimilarity(fps[0],fps[1])\n",
    "def mutate(parent, geneSet, get_fitness):\n",
    "    childGenes = parent\n",
    "    while True:\n",
    "        oldGene, alternate = random.sample(range(0,childGenes.Mol.GetNumAtoms()), 2)\n",
    "        if childGenes.Mol.GetAtomWithIdx(alternate).IsInRing() == False and\\\n",
    "                childGenes.Mol.GetAtomWithIdx(oldGene).IsInRing() == False:\n",
    "            break\n",
    "    newGene = random.sample(geneSet, 1)[0]\n",
    "    try:\n",
    "        childGenes.Mol.GetAtomWithIdx(alternate).SetAtomicNum(newGene) if\\\n",
    "              childGenes.Mol.GetAtomWithIdx(oldGene).GetFormalCharge() != 0 else\\\n",
    "              childGenes.Mol.GetAtomWithIdx(oldGene).SetAtomicNum(newGene)\n",
    "        Chem.SanitizeMol(childGenes.Mol)\n",
    "        genes = Chem.MolToSmiles(childGenes.Mol)\n",
    "        fitness = get_fitness(genes, target)\n",
    "        return Chromosome(genes, fitness)\n",
    "    except:\n",
    "        genes = Chem.MolToSmiles(parent.Mol)\n",
    "        return Chromosome(genes, 0)\n",
    "        pass    "
   ]
  },
  {
   "cell_type": "code",
   "execution_count": 6,
   "metadata": {},
   "outputs": [
    {
     "name": "stdout",
     "output_type": "stream",
     "text": [
      "0.36524822695035464\n",
      "child adopted!\tBN1C=C[NH+](CCCF)C1C\t0.3730407523510972\n",
      "child adopted!\tFPCC[NH+]1C=CN(P)C1S\t0.375366568914956\n",
      "child adopted!\tBNNN[NH+]1C=CN(C)C1P\t0.40390879478827363\n",
      "child adopted!\tBNNN[NH+]1C=CN(C)C1N\t0.41496598639455784\n",
      "child adopted!\tBC1N(O)C=C[NH+]1NCON\t0.41590214067278286\n",
      "child adopted!\tCCCC[NH+]1C=CN(N)C1P\t0.4336569579288026\n",
      "child adopted!\tNN1C=C[NH+](CCCF)C1P\t0.43450479233226835\n",
      "child adopted!\tNN1C=C[NH+](CCCP)C1P\t0.43870967741935485\n",
      "child adopted!\tCC1N(N)C=C[NH+]1NNOF\t0.4391891891891892\n",
      "child adopted!\tCONN[NH+]1C=CN(P)C1C\t0.4668769716088328\n",
      "child adopted!\tCC1N(C)C=C[NH+]1NONP\t0.5519713261648745\n",
      "child adopted!\tCC1N(C)C=C[NH+]1NONN\t0.5543478260869565\n",
      "child adopted!\tCC1N(C)C=C[NH+]1NOCN\t0.573943661971831\n",
      "child adopted!\tCC1N(C)C=C[NH+]1NBBN\t0.6174242424242424\n",
      "child adopted!\tCC1N(N)C=C[NH+]1NCNN\t0.6245059288537549\n",
      "child adopted!\tCC1N(C)C=C[NH+]1NCSP\t0.7222222222222222\n"
     ]
    }
   ],
   "source": [
    "target = \"CNCN[NH+]1C=CN(C1C)C\"\n",
    "geneSet = [5,6,7,8,9,15,16] #B,C,N,O,F,P,S\n",
    "genes = \"CCCC[NH+]1C=CN(C1C)C\"\n",
    "fitness = get_fitness(genes, target)\n",
    "parent = Chromosome(genes,fitness)\n",
    "print(parent.Fitness)\n",
    "while parent.Fitness < 0.6:\n",
    "    child = mutate(parent, geneSet, get_fitness)\n",
    "    if child.Fitness > parent.Fitness:\n",
    "        print(\"{}\\t{}\\t{}\".format(\"child adopted!\",child.Genes,child.Fitness))\n",
    "        parent = child"
   ]
  },
  {
   "cell_type": "markdown",
   "metadata": {},
   "source": [
    "# Add atoms\n",
    "\n",
    "GA is biased toward removing atoms with current similarity mapping. A good solution with be one that improves the overall functionality of the genetic engine.\n",
    "\n",
    "try: \n",
    "1. bias until number of atoms match target\n",
    "2. find MCS and start from there\n",
    "3. combination of 1 and 2\n",
    "4. **add segments to geneSet**\n"
   ]
  },
  {
   "cell_type": "code",
   "execution_count": 4,
   "metadata": {
    "collapsed": true
   },
   "outputs": [],
   "source": [
    "class Chromosome(Chem.rdchem.Mol):\n",
    "    def __init__(self, genes, fitness):\n",
    "        Chem.rdchem.Mol.__init__(self)\n",
    "        self.Genes = genes\n",
    "        self.Fitness = fitness\n",
    "        self.Mol = Chem.MolFromSmiles(genes)\n",
    "        self.RWMol = Chem.RWMol(Chem.MolFromSmiles(genes))\n",
    "def get_fitness(genes, target):\n",
    "    ms = [Chem.MolFromSmiles(target), Chem.MolFromSmiles(genes)]\n",
    "    fps = [FingerprintMols.FingerprintMol(x) for x in ms]\n",
    "    return DataStructs.FingerprintSimilarity(fps[0],fps[1])\n",
    "def mutate(parent, geneSet, get_fitness):\n",
    "    childGenes = parent\n",
    "    mutate_operations = [\"replace atom\", \"add atom\", \"remove atom\"]\n",
    "    mutation_type = random.sample(mutate_operations, 1)[0]\n",
    "    if mutation_type == \"replace atom\":\n",
    "        while True:\n",
    "            oldGene, alternate = random.sample(range(0,childGenes.RWMol.GetNumAtoms()), 2)\n",
    "            if childGenes.RWMol.GetAtomWithIdx(alternate).IsInRing() == False and\\\n",
    "                    childGenes.RWMol.GetAtomWithIdx(oldGene).IsInRing() == False:\n",
    "                break\n",
    "        newGene = random.sample(geneSet, 1)[0]\n",
    "        try:\n",
    "            childGenes.RWMol.GetAtomWithIdx(alternate).SetAtomicNum(newGene) if\\\n",
    "                  childGenes.RWMol.GetAtomWithIdx(oldGene).GetFormalCharge() != 0 else\\\n",
    "                  childGenes.RWMol.GetAtomWithIdx(oldGene).SetAtomicNum(newGene)\n",
    "            Chem.SanitizeMol(childGenes.RWMol)\n",
    "            genes = Chem.MolToSmiles(childGenes.RWMol)\n",
    "            fitness = get_fitness(genes, target)\n",
    "            return Chromosome(genes, fitness)\n",
    "        except:\n",
    "            genes = Chem.MolToSmiles(parent.Mol)\n",
    "            return Chromosome(genes, 0)\n",
    "            pass    \n",
    "    elif mutation_type == \"remove atom\":\n",
    "        \n",
    "        while True:\n",
    "            oldGene = random.sample(range(childGenes.RWMol.GetNumAtoms()), 1)[0]\n",
    "            if childGenes.RWMol.GetAtomWithIdx(oldGene).GetExplicitValence() == 1:\n",
    "                break\n",
    "        try:\n",
    "            childGenes.RWMol.RemoveAtom(oldGene)\n",
    "            childGenes.RWMol.UpdatePropertyCache(strict=True)\n",
    "            Chem.SanitizeMol(childGenes.RWMol)\n",
    "            genes = Chem.MolToSmiles(childGenes.RWMol)\n",
    "            fitness = get_fitness(genes, target)\n",
    "            return Chromosome(genes, fitness)\n",
    "        except:\n",
    "            genes = Chem.MolToSmiles(parent.Mol)\n",
    "            return Chromosome(genes, 0)\n",
    "            pass\n",
    "\n",
    "    elif mutation_type == \"add atom\":\n",
    "        oldGene = random.sample(range(childGenes.RWMol.GetNumAtoms()), 1)[0]\n",
    "        newGeneNumber = childGenes.RWMol.GetNumAtoms()\n",
    "        \n",
    "        try:\n",
    "            childGenes.RWMol.AddAtom(Chem.Atom(newGene))\n",
    "            childGenes.RWMol.AddBond(newGeneNumber,oldGene,Chem.BondType.SINGLE) \n",
    "            childGenes.RWMol.UpdatePropertyCache(strict=True)\n",
    "            Chem.SanitizeMol(childGenes.RWMol)\n",
    "            genes = Chem.MolToSmiles(childGenes.RWMol)\n",
    "            fitness = get_fitness(genes, target)\n",
    "            return Chromosome(genes, fitness)\n",
    "        except:\n",
    "            genes = Chem.MolToSmiles(parent.Mol)\n",
    "            return Chromosome(genes, 0)\n",
    "            pass"
   ]
  },
  {
   "cell_type": "code",
   "execution_count": null,
   "metadata": {
    "scrolled": false
   },
   "outputs": [
    {
     "name": "stdout",
     "output_type": "stream",
     "text": [
      "a new parent!\tCCCC[NH+]1C=CN(C1C)C\t0.36524822695035464\n",
      "child adopted!\tCCCO[NH+]1C=CN(C)C1C\t0.3924050632911392\n",
      "child adopted!\tCCO[NH+]1C=CN(C)C1C\t0.39603960396039606\n",
      "child adopted!\tBN1C=C[NH+](OC)C1\t0.417910447761194"
     ]
    }
   ],
   "source": [
    "target = \"CNCN[NH+]1C=CN(C1C)C\"\n",
    "geneSet = [5,6,7,8,9,15,16] #B,C,N,O,F,P,S\n",
    "genes = \"CCCC[NH+]1C=CN(C1C)C\"\n",
    "fitness = get_fitness(genes, target)\n",
    "parent = Chromosome(genes,fitness)\n",
    "print(\"{}\\t{}\\t{}\".format(\"a new parent!\",parent.Genes,parent.Fitness))\n",
    "while parent.Fitness < 0.5:\n",
    "    child = mutate(parent, geneSet, get_fitness)\n",
    "    if child.Fitness > parent.Fitness:\n",
    "        print(\"{}\\t{}\\t{}\".format(\"child adopted!\",child.Genes,child.Fitness))\n",
    "        parent = child\n",
    "        mw = Chem.MolFromSmiles(parent.Genes)\n",
    "        ax = Draw.MolToMPL(mw)"
   ]
  },
  {
   "cell_type": "markdown",
   "metadata": {},
   "source": [
    "# Add fragments"
   ]
  },
  {
   "cell_type": "code",
   "execution_count": 13,
   "metadata": {},
   "outputs": [
    {
     "ename": "RuntimeError",
     "evalue": "Pre-condition Violation\n\tbond already exists\n\tViolation occurred on line 268 in file Code/GraphMol/RWMol.cpp\n\tFailed Expression: !(boost::edge(atomIdx1, atomIdx2, d_graph).second)\n\tRDKIT: 2017.03.3\n\tBOOST: 1_56\n",
     "output_type": "error",
     "traceback": [
      "\u001b[0;31m---------------------------------------------------------------------------\u001b[0m",
      "\u001b[0;31mRuntimeError\u001b[0m                              Traceback (most recent call last)",
      "\u001b[0;32m<ipython-input-13-d42088140f85>\u001b[0m in \u001b[0;36m<module>\u001b[0;34m()\u001b[0m\n\u001b[1;32m      6\u001b[0m \u001b[0mcombined\u001b[0m \u001b[0;34m=\u001b[0m \u001b[0mChem\u001b[0m\u001b[0;34m.\u001b[0m\u001b[0mCombineMols\u001b[0m\u001b[0;34m(\u001b[0m\u001b[0mbase\u001b[0m\u001b[0;34m.\u001b[0m\u001b[0mMol\u001b[0m\u001b[0;34m,\u001b[0m\u001b[0mfunGroup\u001b[0m\u001b[0;34m.\u001b[0m\u001b[0mMol\u001b[0m\u001b[0;34m)\u001b[0m\u001b[0;34m\u001b[0m\u001b[0m\n\u001b[1;32m      7\u001b[0m \u001b[0mcombined\u001b[0m \u001b[0;34m=\u001b[0m \u001b[0mChem\u001b[0m\u001b[0;34m.\u001b[0m\u001b[0mEditableMol\u001b[0m\u001b[0;34m(\u001b[0m\u001b[0mcombined\u001b[0m\u001b[0;34m)\u001b[0m\u001b[0;34m\u001b[0m\u001b[0m\n\u001b[0;32m----> 8\u001b[0;31m \u001b[0mcombined\u001b[0m\u001b[0;34m.\u001b[0m\u001b[0mAddBond\u001b[0m\u001b[0;34m(\u001b[0m\u001b[0;36m7\u001b[0m\u001b[0;34m,\u001b[0m\u001b[0;36m8\u001b[0m\u001b[0;34m,\u001b[0m\u001b[0mChem\u001b[0m\u001b[0;34m.\u001b[0m\u001b[0mBondType\u001b[0m\u001b[0;34m.\u001b[0m\u001b[0mSINGLE\u001b[0m\u001b[0;34m)\u001b[0m\u001b[0;34m\u001b[0m\u001b[0m\n\u001b[0m\u001b[1;32m      9\u001b[0m \u001b[0max\u001b[0m \u001b[0;34m=\u001b[0m \u001b[0mDraw\u001b[0m\u001b[0;34m.\u001b[0m\u001b[0mMolToMPL\u001b[0m\u001b[0;34m(\u001b[0m\u001b[0mcombined\u001b[0m\u001b[0;34m)\u001b[0m\u001b[0;34m\u001b[0m\u001b[0m\n",
      "\u001b[0;31mRuntimeError\u001b[0m: Pre-condition Violation\n\tbond already exists\n\tViolation occurred on line 268 in file Code/GraphMol/RWMol.cpp\n\tFailed Expression: !(boost::edge(atomIdx1, atomIdx2, d_graph).second)\n\tRDKIT: 2017.03.3\n\tBOOST: 1_56\n"
     ]
    }
   ],
   "source": [
    "geneSet = [5,6,7,8,9,15,16] #B,C,N,O,F,P,S\n",
    "funGroupGenes = \"CCCC\"\n",
    "baseGenes = \"[NH+]1C=CN(C1C)C\"\n",
    "funGroup = Chromosome(funGroupGenes,1)\n",
    "base = Chromosome(baseGenes,1)\n",
    "combined = Chem.CombineMols(base.Mol,funGroup.Mol)\n",
    "combined = Chem.EditableMol(combined)\n",
    "combined.AddBond(7,8,Chem.BondType.SINGLE)\n",
    "ax = Draw.MolToMPL(combined)"
   ]
  },
  {
   "cell_type": "code",
   "execution_count": 200,
   "metadata": {
    "scrolled": false
   },
   "outputs": [
    {
     "name": "stdout",
     "output_type": "stream",
     "text": [
      "will bond new atom to 3\n",
      "bonded atom did not sanitize\n",
      "atom N ring status and valence:\tTrue\t3\n",
      "atom C ring status and valence:\tTrue\t3\n",
      "atom C ring status and valence:\tTrue\t3\n",
      "atom N ring status and valence:\tTrue\t3\n",
      "atom C ring status and valence:\tTrue\t3\n",
      "atom C ring status and valence:\tFalse\t1\n",
      "atom C ring status and valence:\tFalse\t1\n"
     ]
    },
    {
     "data": {
      "text/plain": [
       "0.5245901639344263"
      ]
     },
     "execution_count": 200,
     "metadata": {},
     "output_type": "execute_result"
    },
    {
     "data": {
      "image/png": "[encoded data removed]",
      "text/plain": [
       "<matplotlib.figure.Figure at 0x11e58b438>"
      ]
     },
     "metadata": {},
     "output_type": "display_data"
    }
   ],
   "source": [
    "target = \"CCCC[NH+]1C=CN(C1C)C\"\n",
    "genes = \"[NH+]1C=CN(C1C)C\"\n",
    "geneSet = [6]#C\n",
    "\n",
    "m = Chem.MolFromSmiles(genes)\n",
    "mw = Chem.RWMol(m)\n",
    "mutate_operations = [\"replace atom\", \"add atom\", \"remove atom\"]\n",
    "mutation_type = random.sample(mutate_operations, 1)[0]\n",
    "newGene = random.sample(geneSet, 1)[0]\n",
    "\n",
    "\n",
    "if mutation_type == \"replace atom\":\n",
    "    print(\"will replace atom\")\n",
    "    \n",
    "elif mutation_type == \"remove atom\":\n",
    "    print(\"will remove atom\")\n",
    "    while True:\n",
    "        oldGene = random.sample(range(mw.GetNumAtoms()), 1)[0]\n",
    "        if mw.GetAtomWithIdx(oldGene).GetExplicitValence() == 1:\n",
    "            break\n",
    "    try:\n",
    "        mw.RemoveAtom(oldGene)\n",
    "        mw.UpdatePropertyCache(strict=True)\n",
    "        Chem.SanitizeMol(mw)\n",
    "    except:\n",
    "        print(\"removed atom did not sanitize\")\n",
    "        pass\n",
    "    \n",
    "elif mutation_type == \"add atom\":\n",
    "    oldGene = random.sample(range(mw.GetNumAtoms()), 1)[0]\n",
    "    newGeneNumber = mw.GetNumAtoms()\n",
    "    print(\"will bond new atom to %s\" % oldGene)\n",
    "    try:\n",
    "        mw.AddAtom(Chem.Atom(newGene))\n",
    "        mw.AddBond(newGeneNumber,oldGene,Chem.BondType.SINGLE) \n",
    "        mw.UpdatePropertyCache(strict=True)\n",
    "        Chem.SanitizeMol(mw)\n",
    "    except:\n",
    "        print(\"bonded atom did not sanitize\")\n",
    "        mw.RemoveAtom(newGeneNumber)\n",
    "        pass\n",
    "        \n",
    "for atom in mw.GetAtoms():\n",
    "    print(\"{}\\t{}\\t{}\".format(\"atom %s ring status and valence:\"\\\n",
    "            %atom.GetSymbol(), atom.IsInRing(), atom.GetExplicitValence()))\n",
    "    \n",
    "Chem.MolToSmiles(mw)\n",
    "ax=Draw.MolToMPL(mw)\n",
    "\n",
    "target_chrome = Chromosome(target,fitness)\n",
    "target = Chem.MolToSmiles(target_chrome.Mol)\n",
    "genes = Chem.MolToSmiles(mw)\n",
    "parent = Chromosome(genes,fitness)\n",
    "genes = Chem.MolToSmiles(parent.Mol)\n",
    "fitness = get_fitness(genes, target)\n",
    "parent.Fitness"
   ]
  },
  {
   "cell_type": "code",
   "execution_count": 178,
   "metadata": {},
   "outputs": [
    {
     "data": {
      "text/plain": [
       "39"
      ]
     },
     "execution_count": 178,
     "metadata": {},
     "output_type": "execute_result"
    }
   ],
   "source": [
    "from rdkit.Chem import FragmentCatalog\n",
    "from rdkit import RDConfig\n",
    "fName=os.path.join(RDConfig.RDDataDir,'FunctionalGroups.txt')\n",
    "fparams = FragmentCatalog.FragCatParams(1,6,fName)\n",
    "fparams.GetNumFuncGroups()"
   ]
  },
  {
   "cell_type": "code",
   "execution_count": 18,
   "metadata": {},
   "outputs": [
    {
     "data": {
      "text/plain": [
       "3"
      ]
     },
     "execution_count": 18,
     "metadata": {},
     "output_type": "execute_result"
    }
   ],
   "source": [
    "fcat=FragmentCatalog.FragCatalog(fparams)\n",
    "fcgen=FragmentCatalog.FragCatGenerator()\n",
    "m = Chem.MolFromSmiles('OCC=CC(=O)O')\n",
    "fcgen.AddFragsFromMol(m,fcat)"
   ]
  },
  {
   "cell_type": "code",
   "execution_count": 3,
   "metadata": {},
   "outputs": [
    {
     "name": "stdout",
     "output_type": "stream",
     "text": [
      "number of atoms: \t11\n",
      "atom N ring status and valence:\tFalse\t1\n",
      "atom C ring status and valence:\tFalse\t2\n",
      "atom N ring status and valence:\tFalse\t2\n",
      "atom C ring status and valence:\tFalse\t2\n",
      "atom N ring status and valence:\tTrue\t4\n",
      "atom C ring status and valence:\tTrue\t3\n",
      "atom C ring status and valence:\tTrue\t3\n",
      "atom N ring status and valence:\tTrue\t3\n",
      "atom C ring status and valence:\tTrue\t3\n",
      "atom C ring status and valence:\tFalse\t1\n",
      "atom C ring status and valence:\tFalse\t1\n"
     ]
    },
    {
     "data": {
      "image/png": "[encoded data removed]",
      "text/plain": [
       "<matplotlib.figure.Figure at 0x7fa32c215590>"
      ]
     },
     "metadata": {},
     "output_type": "display_data"
    }
   ],
   "source": [
    "start = \"NCNC[NH+]1C=CN(C1C)C\"\n",
    "target = \"CCCC[NH+]1C=CN(C1C)C\"\n",
    "mol = Chem.MolFromSmiles(target)\n",
    "print(\"{}\\t{}\".format(\"number of atoms: \", mol.GetNumAtoms()))\n",
    "for atom in mol.GetAtoms():\n",
    "    print(\"{}\\t{}\\t{}\".format(\"atom %s ring status and valence:\"\\\n",
    "            %atom.GetSymbol(), atom.IsInRing(), atom.GetExplicitValence()))\n",
    "ax1=Draw.MolToMPL(mol)"
   ]
  },
  {
   "cell_type": "code",
   "execution_count": 58,
   "metadata": {},
   "outputs": [
    {
     "name": "stdout",
     "output_type": "stream",
     "text": [
      "number of atoms: \t8\n",
      "atom C ring status:\tFalse\n",
      "atom C ring status:\tFalse\n",
      "atom N ring status:\tFalse\n",
      "atom C ring status:\tFalse\n",
      "atom C ring status:\tFalse\n",
      "atom N ring status:\tFalse\n",
      "atom C ring status:\tFalse\n",
      "atom C ring status:\tFalse\n"
     ]
    },
    {
     "data": {
      "image/png": "[encoded data removed]",
      "text/plain": [
       "<matplotlib.figure.Figure at 0x7f0f389e1f98>"
      ]
     },
     "metadata": {},
     "output_type": "display_data"
    },
    {
     "data": {
      "image/png": "[encoded data removed]",
      "text/plain": [
       "<matplotlib.figure.Figure at 0x7f0f389d8eb8>"
      ]
     },
     "metadata": {},
     "output_type": "display_data"
    }
   ],
   "source": [
    "df = pd.read_csv(\"saltInfo.csv\")\n",
    "mol1 = Chem.MolFromSmiles(df[\"cation_SMILES\"][0])\n",
    "mol2 = Chem.MolFromSmiles(df[\"cation_SMILES\"][1])\n",
    "mols = [mol1,mol2]\n",
    "res=rdFMCS.FindMCS(mols)\n",
    "mol = Chem.MolFromSmarts(res.smartsString)\n",
    "print(\"{}\\t{}\".format(\"number of atoms: \", mol.GetNumAtoms()))\n",
    "for atom in mol.GetAtoms():\n",
    "    print(\"{}\\t{}\".format(\"atom %s ring status:\"\\\n",
    "            %atom.GetSymbol(), atom.IsInRing()))\n",
    "ax1=Draw.MolToMPL(mol1)\n",
    "ax2=Draw.MolToMPL(mol2)"
   ]
  }
 ],
 "metadata": {
  "kernelspec": {
   "display_name": "Python 3",
   "language": "python",
   "name": "python3"
  },
  "language_info": {
   "codemirror_mode": {
    "name": "ipython",
    "version": 3
   },
   "file_extension": ".py",
   "mimetype": "text/x-python",
   "name": "python",
   "nbconvert_exporter": "python",
   "pygments_lexer": "ipython3",
   "version": "3.5.3"
  }
 },
 "nbformat": 4,
 "nbformat_minor": 1
}
